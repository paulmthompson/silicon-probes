{
 "cells": [
  {
   "cell_type": "code",
   "execution_count": null,
   "metadata": {},
   "outputs": [],
   "source": [
    "import numpy as np\n",
    "import matplotlib.pyplot as plt\n",
    "from matplotlib.pyplot import figure\n",
    "\n",
    "from probeinterface import Probe\n",
    "from probeinterface.plotting import plot_probe\n",
    "from probeinterface import combine_probes\n",
    "import probeinterface"
   ]
  },
  {
   "cell_type": "code",
   "execution_count": null,
   "metadata": {},
   "outputs": [],
   "source": [
    "n = 8\n",
    "positions = np.zeros((n, 2))\n",
    "\n",
    "positions[0] = -37/2, 140\n",
    "positions[1] = -29/2, 100\n",
    "positions[2] = -21/2, 60\n",
    "positions[3] = -8.5, 20\n",
    "positions[4] = 0, 0\n",
    "positions[5] = 17/2, 40\n",
    "positions[6] = 25/2, 80\n",
    "positions[7] = 33/2, 120"
   ]
  },
  {
   "cell_type": "code",
   "execution_count": null,
   "metadata": {},
   "outputs": [],
   "source": [
    "probe = Probe(ndim=2, si_units='um')\n",
    "probe.set_contacts(positions=positions, shapes='rect', shape_params={'width': 10, 'height': 16})"
   ]
  },
  {
   "cell_type": "code",
   "execution_count": null,
   "metadata": {},
   "outputs": [],
   "source": [
    "polygon = [(0,-22),(-29/2,0),(-52/2,140),(-52/2,240),(52/2,240),(52/2,140),(29/2,0),(0,-22)]\n",
    "#I want to add to polygon array points that are shifted 200 to the right \n",
    "#and 0 to the bottom (x,y)\n",
    "polygon0 = np.array(polygon)\n",
    "#I want to add to the end of the array\n",
    "polygon = np.append(polygon0, polygon0+(200,0), axis=0)\n",
    "polygon = np.append(polygon, polygon0+(400,0), axis=0)\n",
    "polygon = np.append(polygon, polygon0+(600,0), axis=0)\n",
    "\n",
    "\n",
    "probe.set_planar_contour(polygon)"
   ]
  },
  {
   "cell_type": "code",
   "execution_count": null,
   "metadata": {},
   "outputs": [],
   "source": [
    "probe1 = probe.copy()\n",
    "probe1.move([200, 0])\n",
    "\n",
    "probe2 = probe.copy()\n",
    "probe2.move([400, 0])\n",
    "\n",
    "probe3 = probe.copy()\n",
    "probe3.move([600, 0])\n",
    "\n",
    "multi_shank = combine_probes([probe, probe1, probe2, probe3],connect_shape=False)"
   ]
  },
  {
   "cell_type": "code",
   "execution_count": null,
   "metadata": {},
   "outputs": [],
   "source": [
    "multi_shank.set_planar_contour(polygon)\n",
    "plot_probe(multi_shank, with_channel_index=True)\n",
    "fig = plt.gcf()\n",
    "fig.set_size_inches(18.5, 10.5)"
   ]
  },
  {
   "cell_type": "code",
   "execution_count": null,
   "metadata": {},
   "outputs": [],
   "source": [
    "probeinterface.wiring.pathways['A32>RHD2132']=[19, 28, 20, 27, 21, 26, 22, 25, 23, 24, 16, 31, 18, 29, 17, 30,\n",
    "14,1, 13, 2, 15, 0, 8, 7, 9, 6, 10, 5, 11, 4, 12, 3]\n",
    "multi_shank.wiring_to_device('A32>RHD2132')\n",
    "print(multi_shank.device_channel_indices)"
   ]
  },
  {
   "cell_type": "code",
   "execution_count": null,
   "metadata": {},
   "outputs": [],
   "source": [
    "fig, ax = plt.subplots(figsize=(5, 15))\n",
    "plot_probe(multi_shank, with_channel_index=True, with_device_index=True, ax=ax)\n",
    "\n",
    "fig = plt.gcf()\n",
    "fig.set_size_inches(18.5, 10.5)"
   ]
  }
 ],
 "metadata": {
  "kernelspec": {
   "display_name": "spikeinterface",
   "language": "python",
   "name": "python3"
  },
  "language_info": {
   "codemirror_mode": {
    "name": "ipython",
    "version": 3
   },
   "file_extension": ".py",
   "mimetype": "text/x-python",
   "name": "python",
   "nbconvert_exporter": "python",
   "pygments_lexer": "ipython3",
   "version": "3.9.7"
  },
  "orig_nbformat": 4
 },
 "nbformat": 4,
 "nbformat_minor": 2
}
