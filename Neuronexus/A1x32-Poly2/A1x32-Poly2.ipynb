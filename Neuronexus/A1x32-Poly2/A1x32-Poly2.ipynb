{
 "cells": [
  {
   "cell_type": "code",
   "execution_count": null,
   "id": "ac672944",
   "metadata": {},
   "outputs": [],
   "source": [
    "import numpy as np\n",
    "import matplotlib.pyplot as plt\n",
    "from matplotlib.pyplot import figure\n",
    "\n",
    "from probeinterface import Probe\n",
    "from probeinterface.plotting import plot_probe"
   ]
  },
  {
   "cell_type": "code",
   "execution_count": null,
   "id": "49888611",
   "metadata": {},
   "outputs": [],
   "source": []
  },
  {
   "cell_type": "code",
   "execution_count": null,
   "id": "ba218636",
   "metadata": {},
   "outputs": [],
   "source": [
    "n = 32\n",
    "positions = np.zeros((n, 2))\n",
    "\n",
    "height = 300\n",
    "for i in range(10):\n",
    "    positions[i] = -21.65, height\n",
    "    height += 50\n",
    "    \n",
    "height = 250\n",
    "for i in range(10,16):\n",
    "    positions[i] = -21.65, height\n",
    "    height -= 50\n",
    "\n",
    "height = 25\n",
    "for i in range(16,22):\n",
    "    positions[i] = 21.65, height\n",
    "    height += 50\n",
    "    \n",
    "height = 25 + 15*50\n",
    "for i in range(22,32):\n",
    "    positions[i] = 21.65, height\n",
    "    height -= 50"
   ]
  },
  {
   "cell_type": "code",
   "execution_count": null,
   "id": "98510ba2",
   "metadata": {},
   "outputs": [],
   "source": [
    "probe = Probe(ndim=2, si_units='um')\n",
    "probe.set_contacts(positions=positions, shapes='circle', shape_params={'radius': 7.5})"
   ]
  },
  {
   "cell_type": "code",
   "execution_count": null,
   "id": "dd778009",
   "metadata": {},
   "outputs": [],
   "source": [
    "polygon = [(-57,775),(-34,0),(0,-75),(34,0),(57,775)]\n",
    "probe.set_planar_contour(polygon)"
   ]
  },
  {
   "cell_type": "code",
   "execution_count": null,
   "id": "7ced8940",
   "metadata": {},
   "outputs": [],
   "source": [
    "df = probe.to_dataframe()\n",
    "df"
   ]
  },
  {
   "cell_type": "code",
   "execution_count": null,
   "id": "ca4eb551",
   "metadata": {},
   "outputs": [],
   "source": [
    "plot_probe(probe, with_channel_index=True)\n",
    "fig = plt.gcf()\n",
    "fig.set_size_inches(18.5, 10.5)"
   ]
  },
  {
   "cell_type": "code",
   "execution_count": null,
   "id": "3be72da5",
   "metadata": {},
   "outputs": [],
   "source": [
    "probeinterface.wiring.pathways['A32>RHD2132']=[19, 28, 20, 27, 21, 26, 22, 25, 23, 24, 16, 31, 18, 29, 17, 30,\n",
    "14,1, 13, 2, 15, 0, 8, 7, 9, 6, 10, 5, 11, 4, 12, 3]\n",
    "probe.wiring_to_device('A32>RHD2132')\n",
    "print(probe.device_channel_indices)"
   ]
  },
  {
   "cell_type": "code",
   "execution_count": null,
   "id": "610c23a6",
   "metadata": {},
   "outputs": [],
   "source": [
    "fig, ax = plt.subplots(figsize=(5, 15))\n",
    "plot_probe(probe, with_channel_index=True, with_device_index=True, ax=ax)\n",
    "\n",
    "\n",
    "plt.show()"
   ]
  },
  {
   "cell_type": "code",
   "execution_count": null,
   "id": "49dfab6b",
   "metadata": {},
   "outputs": [],
   "source": []
  },
  {
   "cell_type": "code",
   "execution_count": null,
   "id": "980aa43e",
   "metadata": {},
   "outputs": [],
   "source": []
  },
  {
   "cell_type": "code",
   "execution_count": null,
   "id": "03ae6995",
   "metadata": {},
   "outputs": [],
   "source": []
  }
 ],
 "metadata": {
  "kernelspec": {
   "display_name": "spikeinterface",
   "language": "python",
   "name": "python3"
  },
  "language_info": {
   "codemirror_mode": {
    "name": "ipython",
    "version": 3
   },
   "file_extension": ".py",
   "mimetype": "text/x-python",
   "name": "python",
   "nbconvert_exporter": "python",
   "pygments_lexer": "ipython3",
   "version": "3.9.7"
  }
 },
 "nbformat": 4,
 "nbformat_minor": 5
}
